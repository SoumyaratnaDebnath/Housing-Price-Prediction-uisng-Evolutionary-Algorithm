{
 "cells": [
  {
   "cell_type": "markdown",
   "metadata": {},
   "source": [
    "# Housing Price Prediction using Evolutionary Algorithm"
   ]
  },
  {
   "cell_type": "markdown",
   "metadata": {},
   "source": [
    "Setting Up"
   ]
  },
  {
   "cell_type": "code",
   "execution_count": 1,
   "metadata": {},
   "outputs": [],
   "source": [
    "import csv\n",
    "import random\n",
    "import numpy\n",
    "import time\n",
    "import math\n",
    "\n",
    "# importing the dataset\n",
    "with open('USA_Housing.csv', newline='') as f:\n",
    "    reader = csv.reader(f)\n",
    "    data = list(reader)\n",
    "\n",
    "# removing the top most row\n",
    "data = data[1:]\n",
    "\n",
    "# setting up data for computiing and training\n",
    "res = []\n",
    "for i in range(len(data)):\n",
    "    res.append(data[i][-2])\n",
    "    data[i] = data[i][:-1]\n",
    "    data[i][-1] = 1"
   ]
  },
  {
   "cell_type": "code",
   "execution_count": 2,
   "metadata": {},
   "outputs": [],
   "source": [
    "def vector_product(T,I):\n",
    "    x = 0\n",
    "    for i in range(len(T)):\n",
    "        x += float(I[i])*float(T[i])\n",
    "    return x"
   ]
  },
  {
   "cell_type": "code",
   "execution_count": null,
   "metadata": {},
   "outputs": [],
   "source": [
    "def difference_error(x,R):\n",
    "    p = 0\n",
    "    for i in range(len(x)):\n",
    "        p += abs(float(x[i])-float(R[i]))\n",
    "    return p"
   ]
  },
  {
   "cell_type": "code",
   "execution_count": 4,
   "metadata": {},
   "outputs": [],
   "source": [
    "def Fitness_Function(Labels, Args):\n",
    "    aux = []\n",
    "    for i in Args[0]:\n",
    "        aux.append(vector_product(Labels,i))\n",
    "    return difference_error(aux, Args[1])"
   ]
  },
  {
   "cell_type": "markdown",
   "metadata": {},
   "source": [
    "Code for Differential Evolution Algorithm"
   ]
  },
  {
   "cell_type": "code",
   "execution_count": 5,
   "metadata": {},
   "outputs": [],
   "source": [
    "class solution:\n",
    "    def __init__(self):\n",
    "        self.best = 0\n",
    "        self.leader_solution = []\n",
    "        self.convergence = []\n",
    "        self.conv_gen = 0\n",
    "        self.optimizer = \"\"\n",
    "        self.objfname = \"\"\n",
    "        self.startTime = 0\n",
    "        self.endTime = 0\n",
    "        self.executionTime = 0\n",
    "        self.lb = 0\n",
    "        self.ub = 0\n",
    "        self.dim = 0\n",
    "        self.popnum = 0\n",
    "        self.maxiers = 0\n",
    "\n",
    "def Diff_Evolution(objf, lb, ub, dim, PopSize, iters, args):\n",
    "\n",
    "    mutation_factor = 0.5\n",
    "    crossover_ratio = 0.7\n",
    "    stopping_func = None\n",
    "\n",
    "    if not isinstance(lb, list):\n",
    "        lb = [lb for _ in range(dim)]\n",
    "        ub = [ub for _ in range(dim)]\n",
    "\n",
    "    s = solution()\n",
    "    s.best = float(\"inf\")\n",
    "    population = []\n",
    "\n",
    "    population_fitness = numpy.array([float(\"inf\") for _ in range(PopSize)])\n",
    "\n",
    "    for p in range(PopSize):\n",
    "        sol = []\n",
    "        for d in range(dim):\n",
    "            d_val = random.uniform(lb[d], ub[d])\n",
    "            sol.append(d_val)\n",
    "        population.append(sol)\n",
    "    population = numpy.array(population)\n",
    "\n",
    "    for i in range(PopSize):\n",
    "        fitness = objf(population[i, :], args)\n",
    "        population_fitness[p] = fitness\n",
    "\n",
    "        if fitness < s.best:\n",
    "            s.best = fitness\n",
    "            s.leader_solution = population[i, :]\n",
    "\n",
    "    convergence_curve = numpy.zeros(iters)\n",
    "\n",
    "    timerStart = time.time()\n",
    "    s.startTime = time.strftime(\"%Y-%m-%d-%H-%M-%S\")\n",
    "\n",
    "    t = 0\n",
    "    while t < iters:\n",
    "        if stopping_func is not None and stopping_func(s.best, s.leader_solution, t):\n",
    "            break\n",
    "\n",
    "        for i in range(PopSize):\n",
    "\n",
    "            ids_except_current = [_ for _ in range(PopSize) if _ != i]\n",
    "            id_1, id_2, id_3 = random.sample(ids_except_current, 3)\n",
    "\n",
    "            mutant_sol = []\n",
    "            for d in range(dim):\n",
    "                d_val = population[id_1, d] + mutation_factor * (population[id_2, d] - population[id_3, d])\n",
    "\n",
    "                rn = random.uniform(0, 1)\n",
    "                if rn > crossover_ratio:\n",
    "                    d_val = population[i, d]\n",
    "\n",
    "                mutant_sol.append(d_val)\n",
    "\n",
    "            mutant_sol = numpy.clip(mutant_sol, lb, ub)\n",
    "\n",
    "            mutant_fitness = objf(mutant_sol, args)\n",
    "\n",
    "            if mutant_fitness < population_fitness[i]:\n",
    "                population[i, :] = mutant_sol\n",
    "                population_fitness[i] = mutant_fitness\n",
    "\n",
    "                if mutant_fitness < s.best:\n",
    "                    s.best = mutant_fitness\n",
    "                    s.leader_solution = mutant_sol\n",
    "\n",
    "        convergence_curve[t] = s.best\n",
    "        if (t+1) % 100 == 0:\n",
    "            print(\"Iteration\",'{:>4}'.format(t+1),\"Current Best :\",round(s.best,5))\n",
    "\n",
    "        t = t + 1\n",
    "\n",
    "        timerEnd = time.time()\n",
    "        s.endTime = time.strftime(\"%Y-%m-%d-%H-%M-%S\")\n",
    "        s.executionTime = timerEnd - timerStart\n",
    "        s.convergence = convergence_curve\n",
    "        s.optimizer = \"DE\"\n",
    "        s.objfname = objf.__name__\n",
    "\n",
    "    return s"
   ]
  },
  {
   "cell_type": "markdown",
   "metadata": {},
   "source": [
    "Dataset to be passed to Diff_Evolution function"
   ]
  },
  {
   "cell_type": "code",
   "execution_count": 6,
   "metadata": {},
   "outputs": [],
   "source": [
    "# training upon the first 200 records in the dataset\n",
    "NumRecords = 201 \n",
    "\n",
    "Obj_Function = Fitness_Function\n",
    "Lower_Bound = -10e8\n",
    "Upper_Bound = 10e8\n",
    "Dimention = 6\n",
    "Population = 100\n",
    "Generations = 2000\n",
    "Arguments = [data[:NumRecords], res[:NumRecords]]"
   ]
  },
  {
   "cell_type": "markdown",
   "metadata": {},
   "source": [
    "Training using Differential Evolution"
   ]
  },
  {
   "cell_type": "code",
   "execution_count": 7,
   "metadata": {},
   "outputs": [
    {
     "name": "stdout",
     "output_type": "stream",
     "text": [
      "Iteration  100 Current Best : 28960701579.12448\n",
      "Iteration  200 Current Best : 2388989249.20478\n",
      "Iteration  300 Current Best : 285098578.48314\n",
      "Iteration  400 Current Best : 43400285.61327\n",
      "Iteration  500 Current Best : 17037533.32713\n",
      "Iteration  600 Current Best : 16166780.04929\n",
      "Iteration  700 Current Best : 16154243.70069\n",
      "Iteration  800 Current Best : 16153040.03864\n",
      "Iteration  900 Current Best : 16152734.66429\n",
      "Iteration 1000 Current Best : 16152621.76437\n",
      "Iteration 1100 Current Best : 16152605.44058\n",
      "Iteration 1200 Current Best : 16152602.65172\n",
      "Iteration 1300 Current Best : 16152601.92528\n",
      "Iteration 1400 Current Best : 16152601.86311\n",
      "Iteration 1500 Current Best : 16152601.82793\n",
      "Iteration 1600 Current Best : 16152601.8194\n",
      "Iteration 1700 Current Best : 16152601.81823\n",
      "Iteration 1800 Current Best : 16152601.81791\n",
      "Iteration 1900 Current Best : 16152601.81786\n",
      "Iteration 2000 Current Best : 16152601.81784\n"
     ]
    }
   ],
   "source": [
    "SOLUTION = Diff_Evolution(Obj_Function, Lower_Bound, Upper_Bound, Dimention, Population, Generations+1, Arguments)"
   ]
  },
  {
   "cell_type": "code",
   "execution_count": 8,
   "metadata": {},
   "outputs": [
    {
     "name": "stdout",
     "output_type": "stream",
     "text": [
      "Best Fitness : 16152601.81784\n",
      "\n",
      "Coefficients :\n",
      "[20.816560152007334, 165262.20790006878, 133934.863510844, -6302.098828618624, 13.906448132099431, -2589362.8083276236]\n"
     ]
    }
   ],
   "source": [
    "print('Best Fitness :', round(SOLUTION.best,5))\n",
    "print('\\nCoefficients :', list(SOLUTION.leader_solution), sep=\"\\n\")"
   ]
  },
  {
   "cell_type": "markdown",
   "metadata": {},
   "source": [
    "Convergence Curve"
   ]
  },
  {
   "cell_type": "code",
   "execution_count": 9,
   "metadata": {},
   "outputs": [
    {
     "data": {
      "image/png": "[encoded data removed]",
      "text/plain": [
       "<Figure size 1080x720 with 4 Axes>"
      ]
     },
     "metadata": {
      "needs_background": "light"
     },
     "output_type": "display_data"
    }
   ],
   "source": [
    "import matplotlib.pyplot as plt\n",
    "\n",
    "x_axis = range(1, len(SOLUTION.convergence)+1)\n",
    "\n",
    "f = plt.figure()\n",
    "f.set_figwidth(15)\n",
    "f.set_figheight(10)\n",
    "\n",
    "plt.subplot(2, 2, 1)\n",
    "plt.plot(x_axis[:int(len(x_axis)/4)], SOLUTION.convergence[:int(len(x_axis)/4)])\n",
    "plt.subplot(2, 2, 2)\n",
    "plt.plot(x_axis[int(len(x_axis)/4):int(len(x_axis)/2)], SOLUTION.convergence[int(len(x_axis)/4):int(len(x_axis)/2)])\n",
    "plt.subplot(2, 2, 3)\n",
    "plt.plot(x_axis[int(len(x_axis)/2):int(3*len(x_axis)/4)], SOLUTION.convergence[int(len(x_axis)/2):int(3*len(x_axis)/4)])\n",
    "plt.subplot(2, 2, 4)\n",
    "plt.plot(x_axis[int(3*len(x_axis)/4):], SOLUTION.convergence[int(3*len(x_axis)/4):])\n",
    "\n",
    "plt.show()"
   ]
  },
  {
   "cell_type": "markdown",
   "metadata": {},
   "source": [
    "Calculating **Mean Absolute Percentage Training Error**"
   ]
  },
  {
   "cell_type": "code",
   "execution_count": 10,
   "metadata": {},
   "outputs": [
    {
     "name": "stdout",
     "output_type": "stream",
     "text": [
      "Mean Absolute Percentage Training Error : 7.886 %\n"
     ]
    }
   ],
   "source": [
    "aux = []\n",
    "for i in data[:NumRecords]:\n",
    "    aux.append(vector_product(SOLUTION.leader_solution,i))\n",
    "\n",
    "optSum = 0\n",
    "for a in range(NumRecords):\n",
    "    optSum += abs(aux[a]-float(res[a]))/float(res[a])\n",
    "\n",
    "print(\"Mean Absolute Percentage Training Error :\", round(optSum*100/len(aux),4), \"%\")"
   ]
  },
  {
   "cell_type": "markdown",
   "metadata": {},
   "source": [
    "**Validation**"
   ]
  },
  {
   "cell_type": "code",
   "execution_count": 11,
   "metadata": {},
   "outputs": [],
   "source": [
    "Validation_Records = 50"
   ]
  },
  {
   "cell_type": "code",
   "execution_count": 12,
   "metadata": {},
   "outputs": [],
   "source": [
    "argV = [data[NumRecords:NumRecords+Validation_Records], res[NumRecords:NumRecords+Validation_Records]]\n",
    "prediction = Fitness_Function(SOLUTION.leader_solution, argV)"
   ]
  },
  {
   "cell_type": "markdown",
   "metadata": {},
   "source": [
    "Calculation **Mean Absolute Percentage Validation Error**"
   ]
  },
  {
   "cell_type": "code",
   "execution_count": 13,
   "metadata": {},
   "outputs": [
    {
     "name": "stdout",
     "output_type": "stream",
     "text": [
      "Mean Absolute Percentage Validation Error : 7.9192 %\n"
     ]
    }
   ],
   "source": [
    "aux = []\n",
    "for i in data[NumRecords:NumRecords+Validation_Records]:\n",
    "    aux.append(vector_product(SOLUTION.leader_solution,i))\n",
    "\n",
    "optSum = 0\n",
    "for a in range(len(aux)):\n",
    "    optSum += abs(aux[a]-float(res[NumRecords+a]))/float(res[NumRecords+a])\n",
    "\n",
    "print(\"Mean Absolute Percentage Validation Error :\", round(optSum*100/len(aux),4), \"%\")"
   ]
  },
  {
   "cell_type": "code",
   "execution_count": null,
   "metadata": {},
   "outputs": [],
   "source": []
  },
  {
   "cell_type": "code",
   "execution_count": null,
   "metadata": {},
   "outputs": [],
   "source": []
  }
 ],
 "metadata": {
  "kernelspec": {
   "display_name": "Python 3",
   "language": "python",
   "name": "python3"
  },
  "language_info": {
   "codemirror_mode": {
    "name": "ipython",
    "version": 3
   },
   "file_extension": ".py",
   "mimetype": "text/x-python",
   "name": "python",
   "nbconvert_exporter": "python",
   "pygments_lexer": "ipython3",
   "version": "3.8.2"
  }
 },
 "nbformat": 4,
 "nbformat_minor": 4
}
